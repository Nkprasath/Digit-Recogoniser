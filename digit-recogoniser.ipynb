{
 "cells": [
  {
   "cell_type": "code",
   "execution_count": 1,
   "metadata": {
    "_cell_guid": "b1076dfc-b9ad-4769-8c92-a6c4dae69d19",
    "_uuid": "8f2839f25d086af736a60e9eeb907d3b93b6e0e5",
    "execution": {
     "iopub.execute_input": "2020-11-17T05:14:13.845693Z",
     "iopub.status.busy": "2020-11-17T05:14:13.844481Z",
     "iopub.status.idle": "2020-11-17T05:14:13.850806Z",
     "shell.execute_reply": "2020-11-17T05:14:13.851497Z"
    },
    "papermill": {
     "duration": 0.040462,
     "end_time": "2020-11-17T05:14:13.851703",
     "exception": false,
     "start_time": "2020-11-17T05:14:13.811241",
     "status": "completed"
    },
    "tags": []
   },
   "outputs": [
    {
     "name": "stdout",
     "output_type": "stream",
     "text": [
      "/kaggle/input/digit-recognizer/sample_submission.csv\n",
      "/kaggle/input/digit-recognizer/test.csv\n",
      "/kaggle/input/digit-recognizer/train.csv\n"
     ]
    }
   ],
   "source": [
    "# This Python 3 environment comes with many helpful analytics libraries installed\n",
    "# It is defined by the kaggle/python Docker image: https://github.com/kaggle/docker-python\n",
    "# For example, here's several helpful packages to load\n",
    "\n",
    "import numpy as np # linear algebra\n",
    "import pandas as pd # data processing, CSV file I/O (e.g. pd.read_csv)\n",
    "\n",
    "# Input data files are available in the read-only \"../input/\" directory\n",
    "# For example, running this (by clicking run or pressing Shift+Enter) will list all files under the input directory\n",
    "\n",
    "import os\n",
    "for dirname, _, filenames in os.walk('/kaggle/input'):\n",
    "    for filename in filenames:\n",
    "        print(os.path.join(dirname, filename))\n",
    "\n",
    "# You can write up to 20GB to the current directory (/kaggle/working/) that gets preserved as output when you create a version using \"Save & Run All\" \n",
    "# You can also write temporary files to /kaggle/temp/, but they won't be saved outside of the current session"
   ]
  },
  {
   "cell_type": "code",
   "execution_count": 2,
   "metadata": {
    "_cell_guid": "79c7e3d0-c299-4dcb-8224-4455121ee9b0",
    "_uuid": "d629ff2d2480ee46fbb7e2d37f6b5fab8052498a",
    "execution": {
     "iopub.execute_input": "2020-11-17T05:14:13.905815Z",
     "iopub.status.busy": "2020-11-17T05:14:13.904896Z",
     "iopub.status.idle": "2020-11-17T05:14:21.563124Z",
     "shell.execute_reply": "2020-11-17T05:14:21.562259Z"
    },
    "papermill": {
     "duration": 7.691056,
     "end_time": "2020-11-17T05:14:21.563262",
     "exception": false,
     "start_time": "2020-11-17T05:14:13.872206",
     "status": "completed"
    },
    "tags": []
   },
   "outputs": [],
   "source": [
    "import numpy as np\n",
    "import matplotlib.pyplot as plt\n",
    "import matplotlib.image as mpimg\n",
    "import seaborn as sns\n",
    "%matplotlib inline\n",
    "\n",
    "np.random.seed(2)\n",
    "\n",
    "from sklearn.model_selection import train_test_split\n",
    "from sklearn.metrics import confusion_matrix\n",
    "import itertools\n",
    "\n",
    "from keras.utils.np_utils import to_categorical # convert to one-hot-encoding\n",
    "from keras.models import Sequential\n",
    "from keras.layers import Dense, Dropout, Flatten, Conv2D, MaxPool2D\n",
    "from keras.optimizers import RMSprop\n",
    "from keras.preprocessing.image import ImageDataGenerator\n",
    "from keras.callbacks import ReduceLROnPlateau\n"
   ]
  },
  {
   "cell_type": "code",
   "execution_count": 3,
   "metadata": {
    "execution": {
     "iopub.execute_input": "2020-11-17T05:14:21.611522Z",
     "iopub.status.busy": "2020-11-17T05:14:21.610746Z",
     "iopub.status.idle": "2020-11-17T05:14:27.956022Z",
     "shell.execute_reply": "2020-11-17T05:14:27.955282Z"
    },
    "papermill": {
     "duration": 6.373555,
     "end_time": "2020-11-17T05:14:27.956168",
     "exception": false,
     "start_time": "2020-11-17T05:14:21.582613",
     "status": "completed"
    },
    "tags": []
   },
   "outputs": [],
   "source": [
    "train = pd.read_csv(\"/kaggle/input/digit-recognizer/train.csv\")\n",
    "test = pd.read_csv(\"/kaggle/input/digit-recognizer/test.csv\")"
   ]
  },
  {
   "cell_type": "code",
   "execution_count": 4,
   "metadata": {
    "execution": {
     "iopub.execute_input": "2020-11-17T05:14:28.007311Z",
     "iopub.status.busy": "2020-11-17T05:14:28.006483Z",
     "iopub.status.idle": "2020-11-17T05:14:28.401425Z",
     "shell.execute_reply": "2020-11-17T05:14:28.400698Z"
    },
    "papermill": {
     "duration": 0.425531,
     "end_time": "2020-11-17T05:14:28.401552",
     "exception": false,
     "start_time": "2020-11-17T05:14:27.976021",
     "status": "completed"
    },
    "tags": []
   },
   "outputs": [
    {
     "data": {
      "text/plain": [
       "1    4684\n",
       "7    4401\n",
       "3    4351\n",
       "9    4188\n",
       "2    4177\n",
       "6    4137\n",
       "0    4132\n",
       "4    4072\n",
       "8    4063\n",
       "5    3795\n",
       "Name: label, dtype: int64"
      ]
     },
     "execution_count": 4,
     "metadata": {},
     "output_type": "execute_result"
    },
    {
     "data": {
      "image/png": "[encoded data removed]",
      "text/plain": [
       "<Figure size 432x288 with 1 Axes>"
      ]
     },
     "metadata": {
      "needs_background": "light"
     },
     "output_type": "display_data"
    }
   ],
   "source": [
    "Y_train = train[\"label\"]\n",
    "\n",
    "# Drop 'label' column\n",
    "X_train = train.drop(labels = [\"label\"],axis = 1) \n",
    "\n",
    "# free some space\n",
    "del train \n",
    "\n",
    "g = sns.countplot(Y_train)\n",
    "\n",
    "Y_train.value_counts()"
   ]
  },
  {
   "cell_type": "code",
   "execution_count": 5,
   "metadata": {
    "execution": {
     "iopub.execute_input": "2020-11-17T05:14:28.451627Z",
     "iopub.status.busy": "2020-11-17T05:14:28.450087Z",
     "iopub.status.idle": "2020-11-17T05:14:28.501616Z",
     "shell.execute_reply": "2020-11-17T05:14:28.500957Z"
    },
    "papermill": {
     "duration": 0.078641,
     "end_time": "2020-11-17T05:14:28.501755",
     "exception": false,
     "start_time": "2020-11-17T05:14:28.423114",
     "status": "completed"
    },
    "tags": []
   },
   "outputs": [
    {
     "data": {
      "text/plain": [
       "count       784\n",
       "unique        1\n",
       "top       False\n",
       "freq        784\n",
       "dtype: object"
      ]
     },
     "execution_count": 5,
     "metadata": {},
     "output_type": "execute_result"
    }
   ],
   "source": [
    "X_train.isnull().any().describe()"
   ]
  },
  {
   "cell_type": "code",
   "execution_count": 6,
   "metadata": {
    "execution": {
     "iopub.execute_input": "2020-11-17T05:14:28.560558Z",
     "iopub.status.busy": "2020-11-17T05:14:28.559150Z",
     "iopub.status.idle": "2020-11-17T05:14:28.583568Z",
     "shell.execute_reply": "2020-11-17T05:14:28.582656Z"
    },
    "papermill": {
     "duration": 0.057165,
     "end_time": "2020-11-17T05:14:28.583741",
     "exception": false,
     "start_time": "2020-11-17T05:14:28.526576",
     "status": "completed"
    },
    "tags": []
   },
   "outputs": [
    {
     "data": {
      "text/plain": [
       "count       784\n",
       "unique        1\n",
       "top       False\n",
       "freq        784\n",
       "dtype: object"
      ]
     },
     "execution_count": 6,
     "metadata": {},
     "output_type": "execute_result"
    }
   ],
   "source": [
    "test.isnull().any().describe()"
   ]
  },
  {
   "cell_type": "code",
   "execution_count": 7,
   "metadata": {
    "execution": {
     "iopub.execute_input": "2020-11-17T05:14:28.660578Z",
     "iopub.status.busy": "2020-11-17T05:14:28.654794Z",
     "iopub.status.idle": "2020-11-17T05:14:28.791950Z",
     "shell.execute_reply": "2020-11-17T05:14:28.792599Z"
    },
    "papermill": {
     "duration": 0.177945,
     "end_time": "2020-11-17T05:14:28.792757",
     "exception": false,
     "start_time": "2020-11-17T05:14:28.614812",
     "status": "completed"
    },
    "tags": []
   },
   "outputs": [],
   "source": [
    "# Normalize the data\n",
    "X_train = X_train / 255.0\n",
    "test = test / 255.0"
   ]
  },
  {
   "cell_type": "code",
   "execution_count": 8,
   "metadata": {
    "execution": {
     "iopub.execute_input": "2020-11-17T05:14:28.844351Z",
     "iopub.status.busy": "2020-11-17T05:14:28.843243Z",
     "iopub.status.idle": "2020-11-17T05:14:28.846856Z",
     "shell.execute_reply": "2020-11-17T05:14:28.846143Z"
    },
    "papermill": {
     "duration": 0.032171,
     "end_time": "2020-11-17T05:14:28.847014",
     "exception": false,
     "start_time": "2020-11-17T05:14:28.814843",
     "status": "completed"
    },
    "tags": []
   },
   "outputs": [],
   "source": [
    "# Reshape image in 3 dimensions (height = 28px, width = 28px , canal = 1)\n",
    "X_train = X_train.values.reshape(-1,28,28,1)\n",
    "test = test.values.reshape(-1,28,28,1)"
   ]
  },
  {
   "cell_type": "code",
   "execution_count": 9,
   "metadata": {
    "execution": {
     "iopub.execute_input": "2020-11-17T05:14:28.897150Z",
     "iopub.status.busy": "2020-11-17T05:14:28.896348Z",
     "iopub.status.idle": "2020-11-17T05:14:28.901460Z",
     "shell.execute_reply": "2020-11-17T05:14:28.902034Z"
    },
    "papermill": {
     "duration": 0.032859,
     "end_time": "2020-11-17T05:14:28.902202",
     "exception": false,
     "start_time": "2020-11-17T05:14:28.869343",
     "status": "completed"
    },
    "tags": []
   },
   "outputs": [],
   "source": [
    "# Encode labels to one hot vectors (ex : 2 -> [0,0,1,0,0,0,0,0,0,0])\n",
    "Y_train = to_categorical(Y_train, num_classes = 10)"
   ]
  },
  {
   "cell_type": "code",
   "execution_count": 10,
   "metadata": {
    "execution": {
     "iopub.execute_input": "2020-11-17T05:14:28.953063Z",
     "iopub.status.busy": "2020-11-17T05:14:28.952285Z",
     "iopub.status.idle": "2020-11-17T05:14:28.955806Z",
     "shell.execute_reply": "2020-11-17T05:14:28.955164Z"
    },
    "papermill": {
     "duration": 0.031128,
     "end_time": "2020-11-17T05:14:28.955933",
     "exception": false,
     "start_time": "2020-11-17T05:14:28.924805",
     "status": "completed"
    },
    "tags": []
   },
   "outputs": [],
   "source": [
    "# Set the random seed\n",
    "random_seed = 2"
   ]
  },
  {
   "cell_type": "code",
   "execution_count": 11,
   "metadata": {
    "execution": {
     "iopub.execute_input": "2020-11-17T05:14:29.008997Z",
     "iopub.status.busy": "2020-11-17T05:14:29.008176Z",
     "iopub.status.idle": "2020-11-17T05:14:29.425721Z",
     "shell.execute_reply": "2020-11-17T05:14:29.425101Z"
    },
    "papermill": {
     "duration": 0.44678,
     "end_time": "2020-11-17T05:14:29.425857",
     "exception": false,
     "start_time": "2020-11-17T05:14:28.979077",
     "status": "completed"
    },
    "tags": []
   },
   "outputs": [],
   "source": [
    "# Split the train and the validation set for the fitting\n",
    "X_train, X_val, Y_train, Y_val = train_test_split(X_train, Y_train, test_size = 0.1, random_state=random_seed)\n"
   ]
  },
  {
   "cell_type": "code",
   "execution_count": 12,
   "metadata": {
    "execution": {
     "iopub.execute_input": "2020-11-17T05:14:29.485905Z",
     "iopub.status.busy": "2020-11-17T05:14:29.484766Z",
     "iopub.status.idle": "2020-11-17T05:14:29.643729Z",
     "shell.execute_reply": "2020-11-17T05:14:29.643108Z"
    },
    "papermill": {
     "duration": 0.194923,
     "end_time": "2020-11-17T05:14:29.643864",
     "exception": false,
     "start_time": "2020-11-17T05:14:29.448941",
     "status": "completed"
    },
    "tags": []
   },
   "outputs": [
    {
     "data": {
      "image/png": "[encoded data removed]",
      "text/plain": [
       "<Figure size 432x288 with 1 Axes>"
      ]
     },
     "metadata": {
      "needs_background": "light"
     },
     "output_type": "display_data"
    }
   ],
   "source": [
    "# Some examples\n",
    "g = plt.imshow(X_train[0][:,:,0])"
   ]
  },
  {
   "cell_type": "code",
   "execution_count": 13,
   "metadata": {
    "execution": {
     "iopub.execute_input": "2020-11-17T05:14:29.706567Z",
     "iopub.status.busy": "2020-11-17T05:14:29.705737Z",
     "iopub.status.idle": "2020-11-17T05:14:29.938591Z",
     "shell.execute_reply": "2020-11-17T05:14:29.937771Z"
    },
    "papermill": {
     "duration": 0.270916,
     "end_time": "2020-11-17T05:14:29.938722",
     "exception": false,
     "start_time": "2020-11-17T05:14:29.667806",
     "status": "completed"
    },
    "tags": []
   },
   "outputs": [],
   "source": [
    "# my CNN architechture is In -> [[Conv2D->relu]*2 -> MaxPool2D -> Dropout]*2 -> Flatten -> Dense -> Dropout -> Out\n",
    "\n",
    "model = Sequential()\n",
    "\n",
    "model.add(Conv2D(filters = 32, kernel_size = (5,5),padding = 'Same', \n",
    "                 activation ='relu', input_shape = (28,28,1)))\n",
    "model.add(Conv2D(filters = 32, kernel_size = (5,5),padding = 'Same', \n",
    "                 activation ='relu'))\n",
    "model.add(MaxPool2D(pool_size=(2,2)))\n",
    "model.add(Dropout(0.25))\n",
    "\n",
    "\n",
    "model.add(Conv2D(filters = 64, kernel_size = (3,3),padding = 'Same', \n",
    "                 activation ='relu'))\n",
    "model.add(Conv2D(filters = 64, kernel_size = (3,3),padding = 'Same', \n",
    "                 activation ='relu'))\n",
    "model.add(MaxPool2D(pool_size=(2,2), strides=(2,2)))\n",
    "model.add(Dropout(0.25))\n",
    "\n",
    "\n",
    "model.add(Flatten())\n",
    "model.add(Dense(256, activation = \"relu\"))\n",
    "model.add(Dropout(0.5))\n",
    "model.add(Dense(10, activation = \"softmax\"))"
   ]
  },
  {
   "cell_type": "code",
   "execution_count": 14,
   "metadata": {
    "execution": {
     "iopub.execute_input": "2020-11-17T05:14:29.995082Z",
     "iopub.status.busy": "2020-11-17T05:14:29.994010Z",
     "iopub.status.idle": "2020-11-17T05:14:29.996831Z",
     "shell.execute_reply": "2020-11-17T05:14:29.997450Z"
    },
    "papermill": {
     "duration": 0.034708,
     "end_time": "2020-11-17T05:14:29.997625",
     "exception": false,
     "start_time": "2020-11-17T05:14:29.962917",
     "status": "completed"
    },
    "tags": []
   },
   "outputs": [],
   "source": [
    "# Define the optimizer\n",
    "optimizer = RMSprop(lr=0.001, rho=0.9, epsilon=1e-08, decay=0.0)"
   ]
  },
  {
   "cell_type": "code",
   "execution_count": 15,
   "metadata": {
    "execution": {
     "iopub.execute_input": "2020-11-17T05:14:30.066049Z",
     "iopub.status.busy": "2020-11-17T05:14:30.064854Z",
     "iopub.status.idle": "2020-11-17T05:14:30.073009Z",
     "shell.execute_reply": "2020-11-17T05:14:30.072177Z"
    },
    "papermill": {
     "duration": 0.048956,
     "end_time": "2020-11-17T05:14:30.073152",
     "exception": false,
     "start_time": "2020-11-17T05:14:30.024196",
     "status": "completed"
    },
    "tags": []
   },
   "outputs": [],
   "source": [
    "# Compile the model\n",
    "model.compile(optimizer = optimizer , loss = \"categorical_crossentropy\", metrics=[\"accuracy\"])"
   ]
  },
  {
   "cell_type": "code",
   "execution_count": 16,
   "metadata": {
    "execution": {
     "iopub.execute_input": "2020-11-17T05:14:30.129233Z",
     "iopub.status.busy": "2020-11-17T05:14:30.128109Z",
     "iopub.status.idle": "2020-11-17T05:14:30.131303Z",
     "shell.execute_reply": "2020-11-17T05:14:30.130560Z"
    },
    "papermill": {
     "duration": 0.033526,
     "end_time": "2020-11-17T05:14:30.131430",
     "exception": false,
     "start_time": "2020-11-17T05:14:30.097904",
     "status": "completed"
    },
    "tags": []
   },
   "outputs": [],
   "source": [
    "# Set a learning rate annealer\n",
    "learning_rate_reduction = ReduceLROnPlateau(monitor='val_acc', \n",
    "                                            patience=3, \n",
    "                                            verbose=1, \n",
    "                                            factor=0.5, \n",
    "                                            min_lr=0.00001)"
   ]
  },
  {
   "cell_type": "code",
   "execution_count": 17,
   "metadata": {
    "execution": {
     "iopub.execute_input": "2020-11-17T05:14:30.186576Z",
     "iopub.status.busy": "2020-11-17T05:14:30.185749Z",
     "iopub.status.idle": "2020-11-17T05:14:30.189938Z",
     "shell.execute_reply": "2020-11-17T05:14:30.189187Z"
    },
    "papermill": {
     "duration": 0.033944,
     "end_time": "2020-11-17T05:14:30.190091",
     "exception": false,
     "start_time": "2020-11-17T05:14:30.156147",
     "status": "completed"
    },
    "tags": []
   },
   "outputs": [],
   "source": [
    "epochs = 30\n",
    "batch_size = 86"
   ]
  },
  {
   "cell_type": "code",
   "execution_count": 18,
   "metadata": {
    "execution": {
     "iopub.execute_input": "2020-11-17T05:14:30.249603Z",
     "iopub.status.busy": "2020-11-17T05:14:30.248690Z",
     "iopub.status.idle": "2020-11-17T05:14:30.345206Z",
     "shell.execute_reply": "2020-11-17T05:14:30.345760Z"
    },
    "papermill": {
     "duration": 0.130736,
     "end_time": "2020-11-17T05:14:30.346004",
     "exception": false,
     "start_time": "2020-11-17T05:14:30.215268",
     "status": "completed"
    },
    "tags": []
   },
   "outputs": [],
   "source": [
    "datagen = ImageDataGenerator(\n",
    "        featurewise_center=False,  # set input mean to 0 over the dataset\n",
    "        samplewise_center=False,  # set each sample mean to 0\n",
    "        featurewise_std_normalization=False,  # divide inputs by std of the dataset\n",
    "        samplewise_std_normalization=False,  # divide each input by its std\n",
    "        zca_whitening=False,  # apply ZCA whitening\n",
    "        rotation_range=10,  # randomly rotate images in the range (degrees, 0 to 180)\n",
    "        zoom_range = 0.1, # Randomly zoom image \n",
    "        width_shift_range=0.1,  # randomly shift images horizontally (fraction of total width)\n",
    "        height_shift_range=0.1,  # randomly shift images vertically (fraction of total height)\n",
    "        horizontal_flip=False,  # randomly flip images\n",
    "        vertical_flip=False)  # randomly flip images\n",
    "\n",
    "\n",
    "datagen.fit(X_train)"
   ]
  },
  {
   "cell_type": "code",
   "execution_count": 19,
   "metadata": {
    "execution": {
     "iopub.execute_input": "2020-11-17T05:14:30.402912Z",
     "iopub.status.busy": "2020-11-17T05:14:30.402144Z",
     "iopub.status.idle": "2020-11-17T06:26:58.971101Z",
     "shell.execute_reply": "2020-11-17T06:26:58.971732Z"
    },
    "papermill": {
     "duration": 4348.60124,
     "end_time": "2020-11-17T06:26:58.971922",
     "exception": false,
     "start_time": "2020-11-17T05:14:30.370682",
     "status": "completed"
    },
    "tags": []
   },
   "outputs": [
    {
     "name": "stdout",
     "output_type": "stream",
     "text": [
      "Epoch 1/30\n",
      "439/439 - 145s - loss: 0.4110 - accuracy: 0.8673 - val_loss: 0.0662 - val_accuracy: 0.9793\n",
      "Epoch 2/30\n",
      "439/439 - 144s - loss: 0.1213 - accuracy: 0.9649 - val_loss: 0.0385 - val_accuracy: 0.9881\n",
      "Epoch 3/30\n",
      "439/439 - 143s - loss: 0.0937 - accuracy: 0.9721 - val_loss: 0.0341 - val_accuracy: 0.9893\n",
      "Epoch 4/30\n",
      "439/439 - 144s - loss: 0.0786 - accuracy: 0.9767 - val_loss: 0.0220 - val_accuracy: 0.9926\n",
      "Epoch 5/30\n",
      "439/439 - 144s - loss: 0.0665 - accuracy: 0.9793 - val_loss: 0.0287 - val_accuracy: 0.9912\n",
      "Epoch 6/30\n",
      "439/439 - 143s - loss: 0.0691 - accuracy: 0.9799 - val_loss: 0.0312 - val_accuracy: 0.9914\n",
      "Epoch 7/30\n",
      "439/439 - 144s - loss: 0.0625 - accuracy: 0.9823 - val_loss: 0.0323 - val_accuracy: 0.9907\n",
      "Epoch 8/30\n",
      "439/439 - 143s - loss: 0.0596 - accuracy: 0.9830 - val_loss: 0.0298 - val_accuracy: 0.9907\n",
      "Epoch 9/30\n",
      "439/439 - 146s - loss: 0.0578 - accuracy: 0.9837 - val_loss: 0.0240 - val_accuracy: 0.9921\n",
      "Epoch 10/30\n",
      "439/439 - 144s - loss: 0.0551 - accuracy: 0.9841 - val_loss: 0.0189 - val_accuracy: 0.9943\n",
      "Epoch 11/30\n",
      "439/439 - 143s - loss: 0.0604 - accuracy: 0.9833 - val_loss: 0.0233 - val_accuracy: 0.9943\n",
      "Epoch 12/30\n",
      "439/439 - 146s - loss: 0.0599 - accuracy: 0.9838 - val_loss: 0.0276 - val_accuracy: 0.9933\n",
      "Epoch 13/30\n",
      "439/439 - 146s - loss: 0.0606 - accuracy: 0.9837 - val_loss: 0.0239 - val_accuracy: 0.9945\n",
      "Epoch 14/30\n",
      "439/439 - 145s - loss: 0.0602 - accuracy: 0.9839 - val_loss: 0.0307 - val_accuracy: 0.9910\n",
      "Epoch 15/30\n",
      "439/439 - 142s - loss: 0.0606 - accuracy: 0.9834 - val_loss: 0.0281 - val_accuracy: 0.9917\n",
      "Epoch 16/30\n",
      "439/439 - 148s - loss: 0.0656 - accuracy: 0.9832 - val_loss: 0.0586 - val_accuracy: 0.9857\n",
      "Epoch 17/30\n",
      "439/439 - 146s - loss: 0.0666 - accuracy: 0.9839 - val_loss: 0.0480 - val_accuracy: 0.9907\n",
      "Epoch 18/30\n",
      "439/439 - 143s - loss: 0.0679 - accuracy: 0.9833 - val_loss: 0.0390 - val_accuracy: 0.9905\n",
      "Epoch 19/30\n",
      "439/439 - 149s - loss: 0.0714 - accuracy: 0.9815 - val_loss: 0.0371 - val_accuracy: 0.9929\n",
      "Epoch 20/30\n",
      "439/439 - 143s - loss: 0.0702 - accuracy: 0.9816 - val_loss: 0.0263 - val_accuracy: 0.9929\n",
      "Epoch 21/30\n",
      "439/439 - 148s - loss: 0.0690 - accuracy: 0.9820 - val_loss: 0.0312 - val_accuracy: 0.9912\n",
      "Epoch 22/30\n",
      "439/439 - 143s - loss: 0.0734 - accuracy: 0.9817 - val_loss: 0.0334 - val_accuracy: 0.9917\n",
      "Epoch 23/30\n",
      "439/439 - 148s - loss: 0.0732 - accuracy: 0.9815 - val_loss: 0.0354 - val_accuracy: 0.9914\n",
      "Epoch 24/30\n",
      "439/439 - 142s - loss: 0.0730 - accuracy: 0.9814 - val_loss: 0.0375 - val_accuracy: 0.9914\n",
      "Epoch 25/30\n",
      "439/439 - 146s - loss: 0.0719 - accuracy: 0.9818 - val_loss: 0.0286 - val_accuracy: 0.9917\n",
      "Epoch 26/30\n",
      "439/439 - 143s - loss: 0.0743 - accuracy: 0.9810 - val_loss: 0.0374 - val_accuracy: 0.9926\n",
      "Epoch 27/30\n",
      "439/439 - 144s - loss: 0.0763 - accuracy: 0.9814 - val_loss: 0.0378 - val_accuracy: 0.9902\n",
      "Epoch 28/30\n",
      "439/439 - 145s - loss: 0.0745 - accuracy: 0.9818 - val_loss: 0.0462 - val_accuracy: 0.9926\n",
      "Epoch 29/30\n",
      "439/439 - 143s - loss: 0.0737 - accuracy: 0.9809 - val_loss: 0.0470 - val_accuracy: 0.9936\n",
      "Epoch 30/30\n",
      "439/439 - 145s - loss: 0.0772 - accuracy: 0.9822 - val_loss: 0.0414 - val_accuracy: 0.9924\n"
     ]
    }
   ],
   "source": [
    "history = model.fit_generator(datagen.flow(X_train,Y_train, batch_size=batch_size),\n",
    "                              epochs = epochs, validation_data = (X_val,Y_val),\n",
    "                              verbose = 2, steps_per_epoch=X_train.shape[0] // batch_size\n",
    "                              , callbacks=[learning_rate_reduction])"
   ]
  },
  {
   "cell_type": "code",
   "execution_count": 20,
   "metadata": {
    "execution": {
     "iopub.execute_input": "2020-11-17T06:26:59.080586Z",
     "iopub.status.busy": "2020-11-17T06:26:59.079210Z",
     "iopub.status.idle": "2020-11-17T06:27:02.814996Z",
     "shell.execute_reply": "2020-11-17T06:27:02.814221Z"
    },
    "papermill": {
     "duration": 3.792102,
     "end_time": "2020-11-17T06:27:02.815146",
     "exception": false,
     "start_time": "2020-11-17T06:26:59.023044",
     "status": "completed"
    },
    "tags": []
   },
   "outputs": [],
   "source": [
    "# Predict the values from the validation dataset\n",
    "Y_pred = model.predict(X_val)\n",
    "# Convert predictions classes to one hot vectors \n",
    "Y_pred_classes = np.argmax(Y_pred,axis = 1) \n",
    "# Convert validation observations to one hot vectors\n",
    "Y_true = np.argmax(Y_val,axis = 1) "
   ]
  },
  {
   "cell_type": "code",
   "execution_count": 21,
   "metadata": {
    "execution": {
     "iopub.execute_input": "2020-11-17T06:27:02.931459Z",
     "iopub.status.busy": "2020-11-17T06:27:02.930666Z",
     "iopub.status.idle": "2020-11-17T06:27:04.178396Z",
     "shell.execute_reply": "2020-11-17T06:27:04.179315Z"
    },
    "papermill": {
     "duration": 1.314671,
     "end_time": "2020-11-17T06:27:04.179516",
     "exception": false,
     "start_time": "2020-11-17T06:27:02.864845",
     "status": "completed"
    },
    "tags": []
   },
   "outputs": [
    {
     "data": {
      "image/png": "[encoded data removed]",
      "text/plain": [
       "<Figure size 432x288 with 6 Axes>"
      ]
     },
     "metadata": {
      "needs_background": "light"
     },
     "output_type": "display_data"
    }
   ],
   "source": [
    "# Errors are difference between predicted labels and true labels\n",
    "errors = (Y_pred_classes - Y_true != 0)\n",
    "\n",
    "Y_pred_classes_errors = Y_pred_classes[errors]\n",
    "Y_pred_errors = Y_pred[errors]\n",
    "Y_true_errors = Y_true[errors]\n",
    "X_val_errors = X_val[errors]\n",
    "\n",
    "def display_errors(errors_index,img_errors,pred_errors, obs_errors):\n",
    "    \"\"\" This function shows 6 images with their predicted and real labels\"\"\"\n",
    "    n = 0\n",
    "    nrows = 2\n",
    "    ncols = 3\n",
    "    fig, ax = plt.subplots(nrows,ncols,sharex=True,sharey=True)\n",
    "    for row in range(nrows):\n",
    "        for col in range(ncols):\n",
    "            error = errors_index[n]\n",
    "            ax[row,col].imshow((img_errors[error]).reshape((28,28)))\n",
    "            ax[row,col].set_title(\"Predicted label :{}\\nTrue label :{}\".format(pred_errors[error],obs_errors[error]))\n",
    "            n += 1\n",
    "\n",
    "# Probabilities of the wrong predicted numbers\n",
    "Y_pred_errors_prob = np.max(Y_pred_errors,axis = 1)\n",
    "\n",
    "# Predicted probabilities of the true values in the error set\n",
    "true_prob_errors = np.diagonal(np.take(Y_pred_errors, Y_true_errors, axis=1))\n",
    "\n",
    "# Difference between the probability of the predicted label and the true label\n",
    "delta_pred_true_errors = Y_pred_errors_prob - true_prob_errors\n",
    "\n",
    "# Sorted list of the delta prob errors\n",
    "sorted_dela_errors = np.argsort(delta_pred_true_errors)\n",
    "\n",
    "# Top 6 errors \n",
    "most_important_errors = sorted_dela_errors[-6:]\n",
    "\n",
    "# Show the top 6 errors\n",
    "display_errors(most_important_errors, X_val_errors, Y_pred_classes_errors, Y_true_errors)"
   ]
  },
  {
   "cell_type": "code",
   "execution_count": 22,
   "metadata": {
    "execution": {
     "iopub.execute_input": "2020-11-17T06:27:04.288479Z",
     "iopub.status.busy": "2020-11-17T06:27:04.287733Z",
     "iopub.status.idle": "2020-11-17T06:27:27.852296Z",
     "shell.execute_reply": "2020-11-17T06:27:27.851638Z"
    },
    "papermill": {
     "duration": 23.621109,
     "end_time": "2020-11-17T06:27:27.852439",
     "exception": false,
     "start_time": "2020-11-17T06:27:04.231330",
     "status": "completed"
    },
    "tags": []
   },
   "outputs": [],
   "source": [
    "# predict results\n",
    "results = model.predict(test)\n",
    "\n",
    "# select the indix with the maximum probability\n",
    "results = np.argmax(results,axis = 1)\n",
    "\n",
    "results = pd.Series(results,name=\"Label\")"
   ]
  },
  {
   "cell_type": "code",
   "execution_count": 23,
   "metadata": {
    "execution": {
     "iopub.execute_input": "2020-11-17T06:27:27.963964Z",
     "iopub.status.busy": "2020-11-17T06:27:27.963148Z",
     "iopub.status.idle": "2020-11-17T06:27:28.301698Z",
     "shell.execute_reply": "2020-11-17T06:27:28.300773Z"
    },
    "papermill": {
     "duration": 0.397822,
     "end_time": "2020-11-17T06:27:28.301842",
     "exception": false,
     "start_time": "2020-11-17T06:27:27.904020",
     "status": "completed"
    },
    "tags": []
   },
   "outputs": [],
   "source": [
    "submission = pd.concat([pd.Series(range(1,28001),name = \"ImageId\"),results],axis = 1)\n",
    "\n",
    "submission.to_csv(\"cnn_mnist_datagen.csv\",index=False)"
   ]
  }
 ],
 "metadata": {
  "kernelspec": {
   "display_name": "Python 3",
   "language": "python",
   "name": "python3"
  },
  "language_info": {
   "codemirror_mode": {
    "name": "ipython",
    "version": 3
   },
   "file_extension": ".py",
   "mimetype": "text/x-python",
   "name": "python",
   "nbconvert_exporter": "python",
   "pygments_lexer": "ipython3",
   "version": "3.7.6"
  },
  "papermill": {
   "duration": 4399.956082,
   "end_time": "2020-11-17T06:27:28.463705",
   "environment_variables": {},
   "exception": null,
   "input_path": "__notebook__.ipynb",
   "output_path": "__notebook__.ipynb",
   "parameters": {},
   "start_time": "2020-11-17T05:14:08.507623",
   "version": "2.1.0"
  }
 },
 "nbformat": 4,
 "nbformat_minor": 4
}
